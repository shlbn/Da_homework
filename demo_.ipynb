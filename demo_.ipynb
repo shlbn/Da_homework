{
  "cells": [
    {
      "cell_type": "markdown",
      "metadata": {
        "id": "view-in-github",
        "colab_type": "text"
      },
      "source": [
        "<a href=\"https://colab.research.google.com/github/shlbn/Da_homework/blob/main/demo_.ipynb\" target=\"_parent\"><img src=\"https://colab.research.google.com/assets/colab-badge.svg\" alt=\"Open In Colab\"/></a>"
      ]
    },
    {
      "cell_type": "code",
      "execution_count": null,
      "metadata": {
        "id": "fev-QMLN0gpR"
      },
      "outputs": [],
      "source": [
        "import sqlite3\n",
        "conn = sqlite3.connect('TestDB.db')  \n",
        "c = conn.cursor()"
      ]
    },
    {
      "cell_type": "code",
      "execution_count": null,
      "metadata": {
        "id": "b5kCh41V0gpV"
      },
      "outputs": [],
      "source": [
        "request = \"CREATE TABLE EMP(id int, name varchar(32), last_name varchar(32))\"\n",
        "c.execute(request)\n",
        "tables = c.fetchall()"
      ]
    },
    {
      "cell_type": "code",
      "execution_count": null,
      "metadata": {
        "id": "hQC05e2j0gpW"
      },
      "outputs": [],
      "source": [
        "c.execute(\"SELECT count(*) from EMP\")\n",
        "results = c.fetchall()\n",
        "results[0][0]"
      ]
    },
    {
      "cell_type": "code",
      "execution_count": null,
      "metadata": {
        "id": "blZBneLo0gpX"
      },
      "outputs": [],
      "source": [
        ""
      ]
    },
    {
      "cell_type": "code",
      "execution_count": null,
      "metadata": {
        "id": "ktNqXFzG0gpX"
      },
      "outputs": [],
      "source": [
        ""
      ]
    },
    {
      "cell_type": "code",
      "execution_count": null,
      "metadata": {
        "id": "9ha8ezS30gpX"
      },
      "outputs": [],
      "source": [
        ""
      ]
    },
    {
      "cell_type": "code",
      "execution_count": null,
      "metadata": {
        "id": "ZDVxbhRQ0gpY"
      },
      "outputs": [],
      "source": [
        ""
      ]
    },
    {
      "cell_type": "code",
      "execution_count": null,
      "metadata": {
        "id": "cdfHVyS50gpZ"
      },
      "outputs": [],
      "source": [
        ""
      ]
    },
    {
      "cell_type": "code",
      "execution_count": null,
      "metadata": {
        "id": "KbpR7NRE0gpZ"
      },
      "outputs": [],
      "source": [
        ""
      ]
    },
    {
      "cell_type": "code",
      "execution_count": null,
      "metadata": {
        "scrolled": true,
        "id": "eRCB8FiE0gpa",
        "outputId": "f6a6ea03-2e61-47fa-8480-d359f49500b2"
      },
      "outputs": [
        {
          "name": "stdout",
          "output_type": "stream",
          "text": [
            "Requirement already satisfied: sqlitedict in /opt/anaconda3/lib/python3.8/site-packages (1.7.0)\r\n"
          ]
        }
      ],
      "source": [
        "import sys\n",
        "!{sys.executable} -m pip install sqlitedict"
      ]
    },
    {
      "cell_type": "code",
      "execution_count": null,
      "metadata": {
        "id": "i1R_z7bb0gpb"
      },
      "outputs": [],
      "source": [
        "import sqlitedict\n",
        "import pandas as pd"
      ]
    },
    {
      "cell_type": "code",
      "execution_count": null,
      "metadata": {
        "id": "lQTIQkT90gpb"
      },
      "outputs": [],
      "source": [
        "from sqlitedict import SqliteDict\n",
        "mydict = SqliteDict('TestDB_key_value.sqlite', autocommit=True)"
      ]
    },
    {
      "cell_type": "code",
      "execution_count": null,
      "metadata": {
        "id": "rpdHXA3a0gpc"
      },
      "outputs": [],
      "source": [
        "mydict['key1'] = 'value1'\n",
        "mydict['key2'] = ['123',123]\n",
        "mydict['key3'] = pd.DataFrame()\n",
        "mydict.commit()\n",
        "# mydict.close()"
      ]
    },
    {
      "cell_type": "code",
      "execution_count": null,
      "metadata": {
        "id": "SmepnMqh0gpc",
        "outputId": "fd2e1c5d-7349-4f24-b46f-b98c84cb823e"
      },
      "outputs": [
        {
          "name": "stdout",
          "output_type": "stream",
          "text": [
            "value1\n",
            "['123', 123]\n",
            "Empty DataFrame\n",
            "Columns: []\n",
            "Index: []\n"
          ]
        }
      ],
      "source": [
        "print(mydict['key1'])\n",
        "print(mydict['key2'])\n",
        "print(mydict['key3'])"
      ]
    },
    {
      "cell_type": "code",
      "execution_count": null,
      "metadata": {
        "id": "GddTlJTU0gpd"
      },
      "outputs": [],
      "source": [
        ""
      ]
    },
    {
      "cell_type": "code",
      "execution_count": null,
      "metadata": {
        "id": "IjTrvO370gpd"
      },
      "outputs": [],
      "source": [
        ""
      ]
    },
    {
      "cell_type": "code",
      "execution_count": null,
      "metadata": {
        "id": "v-DLiDjb0gpd"
      },
      "outputs": [],
      "source": [
        ""
      ]
    },
    {
      "cell_type": "code",
      "execution_count": null,
      "metadata": {
        "id": "pP2F5KdT0gpe"
      },
      "outputs": [],
      "source": [
        ""
      ]
    },
    {
      "cell_type": "code",
      "execution_count": null,
      "metadata": {
        "id": "rCJunVeb0gpe",
        "outputId": "3a094f72-246a-4048-f866-f411704d1a35"
      },
      "outputs": [
        {
          "name": "stdout",
          "output_type": "stream",
          "text": [
            "Collecting tinydb\n",
            "  Downloading tinydb-4.4.0-py3-none-any.whl (21 kB)\n",
            "Installing collected packages: tinydb\n",
            "Successfully installed tinydb-4.4.0\n"
          ]
        }
      ],
      "source": [
        "!{sys.executable} -m pip install tinydb"
      ]
    },
    {
      "cell_type": "code",
      "execution_count": null,
      "metadata": {
        "id": "bLYKgSOg0gpe"
      },
      "outputs": [],
      "source": [
        "from tinydb import TinyDB, Query"
      ]
    },
    {
      "cell_type": "code",
      "execution_count": null,
      "metadata": {
        "id": "0NFRyJUQ0gpf",
        "outputId": "41acd160-749f-4a87-b03f-cc8b28577f32"
      },
      "outputs": [
        {
          "data": {
            "text/plain": [
              "2"
            ]
          },
          "execution_count": 23,
          "metadata": {},
          "output_type": "execute_result"
        }
      ],
      "source": [
        "from tinydb import TinyDB, Query\n",
        "db = TinyDB('db.json')\n",
        "db.insert({'int': 1, 'char': 'a'})\n",
        "db.insert({'int': 1, 'char': 'b'})"
      ]
    },
    {
      "cell_type": "code",
      "execution_count": null,
      "metadata": {
        "id": "pdGT7l8A0gpf",
        "outputId": "f4a9647a-5109-4463-bbb6-0e08d2d576c5"
      },
      "outputs": [
        {
          "data": {
            "text/plain": [
              "[{'int': 1, 'char': 'a'}]"
            ]
          },
          "execution_count": 25,
          "metadata": {},
          "output_type": "execute_result"
        }
      ],
      "source": [
        "User = Query()\n",
        "db.search(User.char == 'a')"
      ]
    },
    {
      "cell_type": "code",
      "execution_count": null,
      "metadata": {
        "id": "ziXlCOXu0gpg"
      },
      "outputs": [],
      "source": [
        ""
      ]
    }
  ],
  "metadata": {
    "kernelspec": {
      "display_name": "Python 3",
      "language": "python",
      "name": "python3"
    },
    "language_info": {
      "codemirror_mode": {
        "name": "ipython",
        "version": 3
      },
      "file_extension": ".py",
      "mimetype": "text/x-python",
      "name": "python",
      "nbconvert_exporter": "python",
      "pygments_lexer": "ipython3",
      "version": "3.8.5"
    },
    "colab": {
      "name": "demo .ipynb",
      "provenance": [],
      "toc_visible": true,
      "include_colab_link": true
    }
  },
  "nbformat": 4,
  "nbformat_minor": 0
}